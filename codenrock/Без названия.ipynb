{
 "cells": [
  {
   "cell_type": "code",
   "execution_count": 17,
   "id": "d7528a20-86b8-4c6d-a0c9-b32fefde1d94",
   "metadata": {},
   "outputs": [],
   "source": [
    "import pandas as pd\n",
    "import numpy as np\n",
    "import re\n",
    "import matplotlib.pyplot as plt"
   ]
  },
  {
   "cell_type": "code",
   "execution_count": 3,
   "id": "c0dbab3b-c5e1-4080-a2f1-0bb3dd30e801",
   "metadata": {},
   "outputs": [
    {
     "data": {
      "text/html": [
       "<div>\n",
       "<style scoped>\n",
       "    .dataframe tbody tr th:only-of-type {\n",
       "        vertical-align: middle;\n",
       "    }\n",
       "\n",
       "    .dataframe tbody tr th {\n",
       "        vertical-align: top;\n",
       "    }\n",
       "\n",
       "    .dataframe thead th {\n",
       "        text-align: right;\n",
       "    }\n",
       "</style>\n",
       "<table border=\"1\" class=\"dataframe\">\n",
       "  <thead>\n",
       "    <tr style=\"text-align: right;\">\n",
       "      <th></th>\n",
       "      <th>rn</th>\n",
       "      <th>loguser</th>\n",
       "      <th>query</th>\n",
       "      <th>duration</th>\n",
       "    </tr>\n",
       "  </thead>\n",
       "  <tbody>\n",
       "    <tr>\n",
       "      <th>0</th>\n",
       "      <td>16493642</td>\n",
       "      <td>etl_528</td>\n",
       "      <td>from tbl_111329</td>\n",
       "      <td>duration: 240.851 ms</td>\n",
       "    </tr>\n",
       "    <tr>\n",
       "      <th>1</th>\n",
       "      <td>12761109</td>\n",
       "      <td>etl_528</td>\n",
       "      <td>from tbl_127353</td>\n",
       "      <td>duration: 2165.935 ms</td>\n",
       "    </tr>\n",
       "    <tr>\n",
       "      <th>2</th>\n",
       "      <td>28294808</td>\n",
       "      <td>etl_528</td>\n",
       "      <td>from tbl_128986</td>\n",
       "      <td>duration: 17661.026 ms</td>\n",
       "    </tr>\n",
       "    <tr>\n",
       "      <th>3</th>\n",
       "      <td>12703938</td>\n",
       "      <td>etl_528</td>\n",
       "      <td>from tbl_155188</td>\n",
       "      <td>duration: 1047.568 ms</td>\n",
       "    </tr>\n",
       "    <tr>\n",
       "      <th>4</th>\n",
       "      <td>5906380</td>\n",
       "      <td>etl_528</td>\n",
       "      <td>from tbl_48128</td>\n",
       "      <td>duration: 171.001 ms</td>\n",
       "    </tr>\n",
       "  </tbody>\n",
       "</table>\n",
       "</div>"
      ],
      "text/plain": [
       "         rn  loguser            query                duration\n",
       "0  16493642  etl_528  from tbl_111329    duration: 240.851 ms\n",
       "1  12761109  etl_528  from tbl_127353   duration: 2165.935 ms\n",
       "2  28294808  etl_528  from tbl_128986  duration: 17661.026 ms\n",
       "3  12703938  etl_528  from tbl_155188   duration: 1047.568 ms\n",
       "4   5906380  etl_528   from tbl_48128    duration: 171.001 ms"
      ]
     },
     "execution_count": 3,
     "metadata": {},
     "output_type": "execute_result"
    }
   ],
   "source": [
    "data = pd.read_csv(\"log_week_2_end.csv\")\n",
    "data.head()"
   ]
  },
  {
   "cell_type": "code",
   "execution_count": 4,
   "id": "47d13cdc-380c-4ad4-bc07-195dc36d7a13",
   "metadata": {},
   "outputs": [
    {
     "data": {
      "text/html": [
       "<div>\n",
       "<style scoped>\n",
       "    .dataframe tbody tr th:only-of-type {\n",
       "        vertical-align: middle;\n",
       "    }\n",
       "\n",
       "    .dataframe tbody tr th {\n",
       "        vertical-align: top;\n",
       "    }\n",
       "\n",
       "    .dataframe thead th {\n",
       "        text-align: right;\n",
       "    }\n",
       "</style>\n",
       "<table border=\"1\" class=\"dataframe\">\n",
       "  <thead>\n",
       "    <tr style=\"text-align: right;\">\n",
       "      <th></th>\n",
       "      <th>loguser</th>\n",
       "      <th>query</th>\n",
       "      <th>duration</th>\n",
       "    </tr>\n",
       "  </thead>\n",
       "  <tbody>\n",
       "    <tr>\n",
       "      <th>0</th>\n",
       "      <td>etl_528</td>\n",
       "      <td>from tbl_111329</td>\n",
       "      <td>duration: 240.851 ms</td>\n",
       "    </tr>\n",
       "    <tr>\n",
       "      <th>1</th>\n",
       "      <td>etl_528</td>\n",
       "      <td>from tbl_127353</td>\n",
       "      <td>duration: 2165.935 ms</td>\n",
       "    </tr>\n",
       "    <tr>\n",
       "      <th>2</th>\n",
       "      <td>etl_528</td>\n",
       "      <td>from tbl_128986</td>\n",
       "      <td>duration: 17661.026 ms</td>\n",
       "    </tr>\n",
       "    <tr>\n",
       "      <th>3</th>\n",
       "      <td>etl_528</td>\n",
       "      <td>from tbl_155188</td>\n",
       "      <td>duration: 1047.568 ms</td>\n",
       "    </tr>\n",
       "    <tr>\n",
       "      <th>4</th>\n",
       "      <td>etl_528</td>\n",
       "      <td>from tbl_48128</td>\n",
       "      <td>duration: 171.001 ms</td>\n",
       "    </tr>\n",
       "  </tbody>\n",
       "</table>\n",
       "</div>"
      ],
      "text/plain": [
       "   loguser            query                duration\n",
       "0  etl_528  from tbl_111329    duration: 240.851 ms\n",
       "1  etl_528  from tbl_127353   duration: 2165.935 ms\n",
       "2  etl_528  from tbl_128986  duration: 17661.026 ms\n",
       "3  etl_528  from tbl_155188   duration: 1047.568 ms\n",
       "4  etl_528   from tbl_48128    duration: 171.001 ms"
      ]
     },
     "execution_count": 4,
     "metadata": {},
     "output_type": "execute_result"
    }
   ],
   "source": [
    "data.drop(columns=[\"rn\"], inplace=True)\n",
    "data.head()"
   ]
  },
  {
   "cell_type": "code",
   "execution_count": 7,
   "id": "d072e484-5c81-4baa-a93e-ead40d727d15",
   "metadata": {},
   "outputs": [],
   "source": [
    "data = data.dropna()"
   ]
  },
  {
   "cell_type": "code",
   "execution_count": 8,
   "id": "92460820-d29e-4e8d-b16d-25c5f4c4a04c",
   "metadata": {},
   "outputs": [
    {
     "name": "stderr",
     "output_type": "stream",
     "text": [
      "/var/folders/y0/tdgd99f56qs2_clb5q282g7w0000gn/T/ipykernel_34161/222391775.py:1: SettingWithCopyWarning: \n",
      "A value is trying to be set on a copy of a slice from a DataFrame\n",
      "\n",
      "See the caveats in the documentation: https://pandas.pydata.org/pandas-docs/stable/user_guide/indexing.html#returning-a-view-versus-a-copy\n",
      "  data.drop(columns=[\"loguser\"], inplace=True)\n"
     ]
    }
   ],
   "source": [
    "data.drop(columns=[\"loguser\"], inplace=True)"
   ]
  },
  {
   "cell_type": "code",
   "execution_count": 9,
   "id": "90ee2e00-2ecc-4b2a-8a36-c850450d1007",
   "metadata": {},
   "outputs": [
    {
     "data": {
      "text/html": [
       "<div>\n",
       "<style scoped>\n",
       "    .dataframe tbody tr th:only-of-type {\n",
       "        vertical-align: middle;\n",
       "    }\n",
       "\n",
       "    .dataframe tbody tr th {\n",
       "        vertical-align: top;\n",
       "    }\n",
       "\n",
       "    .dataframe thead th {\n",
       "        text-align: right;\n",
       "    }\n",
       "</style>\n",
       "<table border=\"1\" class=\"dataframe\">\n",
       "  <thead>\n",
       "    <tr style=\"text-align: right;\">\n",
       "      <th></th>\n",
       "      <th>query</th>\n",
       "      <th>duration</th>\n",
       "    </tr>\n",
       "  </thead>\n",
       "  <tbody>\n",
       "    <tr>\n",
       "      <th>0</th>\n",
       "      <td>from tbl_111329</td>\n",
       "      <td>duration: 240.851 ms</td>\n",
       "    </tr>\n",
       "    <tr>\n",
       "      <th>1</th>\n",
       "      <td>from tbl_127353</td>\n",
       "      <td>duration: 2165.935 ms</td>\n",
       "    </tr>\n",
       "    <tr>\n",
       "      <th>2</th>\n",
       "      <td>from tbl_128986</td>\n",
       "      <td>duration: 17661.026 ms</td>\n",
       "    </tr>\n",
       "    <tr>\n",
       "      <th>3</th>\n",
       "      <td>from tbl_155188</td>\n",
       "      <td>duration: 1047.568 ms</td>\n",
       "    </tr>\n",
       "    <tr>\n",
       "      <th>4</th>\n",
       "      <td>from tbl_48128</td>\n",
       "      <td>duration: 171.001 ms</td>\n",
       "    </tr>\n",
       "  </tbody>\n",
       "</table>\n",
       "</div>"
      ],
      "text/plain": [
       "             query                duration\n",
       "0  from tbl_111329    duration: 240.851 ms\n",
       "1  from tbl_127353   duration: 2165.935 ms\n",
       "2  from tbl_128986  duration: 17661.026 ms\n",
       "3  from tbl_155188   duration: 1047.568 ms\n",
       "4   from tbl_48128    duration: 171.001 ms"
      ]
     },
     "execution_count": 9,
     "metadata": {},
     "output_type": "execute_result"
    }
   ],
   "source": [
    "data.head()"
   ]
  },
  {
   "cell_type": "code",
   "execution_count": 11,
   "id": "280eedd8-37cf-4ad4-bf24-02f326470309",
   "metadata": {},
   "outputs": [
    {
     "name": "stderr",
     "output_type": "stream",
     "text": [
      "/var/folders/y0/tdgd99f56qs2_clb5q282g7w0000gn/T/ipykernel_34161/616456504.py:1: SettingWithCopyWarning: \n",
      "A value is trying to be set on a copy of a slice from a DataFrame.\n",
      "Try using .loc[row_indexer,col_indexer] = value instead\n",
      "\n",
      "See the caveats in the documentation: https://pandas.pydata.org/pandas-docs/stable/user_guide/indexing.html#returning-a-view-versus-a-copy\n",
      "  data.duration = data.duration.apply(lambda x: x.split(\" \")[1])\n"
     ]
    },
    {
     "data": {
      "text/html": [
       "<div>\n",
       "<style scoped>\n",
       "    .dataframe tbody tr th:only-of-type {\n",
       "        vertical-align: middle;\n",
       "    }\n",
       "\n",
       "    .dataframe tbody tr th {\n",
       "        vertical-align: top;\n",
       "    }\n",
       "\n",
       "    .dataframe thead th {\n",
       "        text-align: right;\n",
       "    }\n",
       "</style>\n",
       "<table border=\"1\" class=\"dataframe\">\n",
       "  <thead>\n",
       "    <tr style=\"text-align: right;\">\n",
       "      <th></th>\n",
       "      <th>query</th>\n",
       "      <th>duration</th>\n",
       "    </tr>\n",
       "  </thead>\n",
       "  <tbody>\n",
       "    <tr>\n",
       "      <th>0</th>\n",
       "      <td>from tbl_111329</td>\n",
       "      <td>240.851</td>\n",
       "    </tr>\n",
       "    <tr>\n",
       "      <th>1</th>\n",
       "      <td>from tbl_127353</td>\n",
       "      <td>2165.935</td>\n",
       "    </tr>\n",
       "    <tr>\n",
       "      <th>2</th>\n",
       "      <td>from tbl_128986</td>\n",
       "      <td>17661.026</td>\n",
       "    </tr>\n",
       "    <tr>\n",
       "      <th>3</th>\n",
       "      <td>from tbl_155188</td>\n",
       "      <td>1047.568</td>\n",
       "    </tr>\n",
       "    <tr>\n",
       "      <th>4</th>\n",
       "      <td>from tbl_48128</td>\n",
       "      <td>171.001</td>\n",
       "    </tr>\n",
       "  </tbody>\n",
       "</table>\n",
       "</div>"
      ],
      "text/plain": [
       "             query   duration\n",
       "0  from tbl_111329    240.851\n",
       "1  from tbl_127353   2165.935\n",
       "2  from tbl_128986  17661.026\n",
       "3  from tbl_155188   1047.568\n",
       "4   from tbl_48128    171.001"
      ]
     },
     "execution_count": 11,
     "metadata": {},
     "output_type": "execute_result"
    }
   ],
   "source": [
    "data.duration = data.duration.apply(lambda x: x.split(\" \")[1])\n",
    "data.head()"
   ]
  },
  {
   "cell_type": "code",
   "execution_count": 12,
   "id": "fa1f26d4-fc47-4826-b506-92db3a45c4d4",
   "metadata": {},
   "outputs": [],
   "source": [
    "data.duration = data.duration.astype(np.float64)"
   ]
  },
  {
   "cell_type": "code",
   "execution_count": 13,
   "id": "f9081f15-ba12-4099-965a-84fa14270755",
   "metadata": {},
   "outputs": [
    {
     "name": "stdout",
     "output_type": "stream",
     "text": [
      "<class 'pandas.core.frame.DataFrame'>\n",
      "Int64Index: 557929 entries, 0 to 630077\n",
      "Data columns (total 2 columns):\n",
      " #   Column    Non-Null Count   Dtype  \n",
      "---  ------    --------------   -----  \n",
      " 0   query     557929 non-null  object \n",
      " 1   duration  557929 non-null  float64\n",
      "dtypes: float64(1), object(1)\n",
      "memory usage: 12.8+ MB\n"
     ]
    }
   ],
   "source": [
    "data.info()"
   ]
  },
  {
   "cell_type": "code",
   "execution_count": 14,
   "id": "b6331ab4-f5a6-4d4f-bdf1-c7062dd8e57b",
   "metadata": {},
   "outputs": [],
   "source": [
    "def find_table(x):\n",
    "    x = re.split(\",| \", x)\n",
    "    arr = list()\n",
    "    for i in x:\n",
    "        if i.startswith(\"tbl\"):\n",
    "            arr.append(i)\n",
    "    return arr"
   ]
  },
  {
   "cell_type": "code",
   "execution_count": 15,
   "id": "d1d480d2-0928-438d-ad9c-e44b7d6e3ace",
   "metadata": {},
   "outputs": [],
   "source": [
    "def type_query(x):\n",
    "    x = x.split(\",\")\n",
    "    arr = list()\n",
    "    for i in x:\n",
    "        ret = i.split(\" \")[0]\n",
    "        if ret.lower() == \"into\":\n",
    "            arr.append(0)\n",
    "        elif ret.lower() == \"join\":\n",
    "            arr.append(1)\n",
    "        else:\n",
    "            arr.append(2)\n",
    "    return arr"
   ]
  },
  {
   "cell_type": "code",
   "execution_count": 18,
   "id": "cfaf9ea8-96b8-4738-900a-8e588f978364",
   "metadata": {},
   "outputs": [
    {
     "data": {
      "text/html": [
       "<div>\n",
       "<style scoped>\n",
       "    .dataframe tbody tr th:only-of-type {\n",
       "        vertical-align: middle;\n",
       "    }\n",
       "\n",
       "    .dataframe tbody tr th {\n",
       "        vertical-align: top;\n",
       "    }\n",
       "\n",
       "    .dataframe thead th {\n",
       "        text-align: right;\n",
       "    }\n",
       "</style>\n",
       "<table border=\"1\" class=\"dataframe\">\n",
       "  <thead>\n",
       "    <tr style=\"text-align: right;\">\n",
       "      <th></th>\n",
       "      <th>query</th>\n",
       "      <th>duration</th>\n",
       "      <th>table</th>\n",
       "      <th>type_query</th>\n",
       "    </tr>\n",
       "  </thead>\n",
       "  <tbody>\n",
       "    <tr>\n",
       "      <th>0</th>\n",
       "      <td>from tbl_111329</td>\n",
       "      <td>240.851</td>\n",
       "      <td>[tbl_111329]</td>\n",
       "      <td>[2]</td>\n",
       "    </tr>\n",
       "    <tr>\n",
       "      <th>1</th>\n",
       "      <td>from tbl_127353</td>\n",
       "      <td>2165.935</td>\n",
       "      <td>[tbl_127353]</td>\n",
       "      <td>[2]</td>\n",
       "    </tr>\n",
       "    <tr>\n",
       "      <th>2</th>\n",
       "      <td>from tbl_128986</td>\n",
       "      <td>17661.026</td>\n",
       "      <td>[tbl_128986]</td>\n",
       "      <td>[2]</td>\n",
       "    </tr>\n",
       "    <tr>\n",
       "      <th>3</th>\n",
       "      <td>from tbl_155188</td>\n",
       "      <td>1047.568</td>\n",
       "      <td>[tbl_155188]</td>\n",
       "      <td>[2]</td>\n",
       "    </tr>\n",
       "    <tr>\n",
       "      <th>4</th>\n",
       "      <td>from tbl_48128</td>\n",
       "      <td>171.001</td>\n",
       "      <td>[tbl_48128]</td>\n",
       "      <td>[2]</td>\n",
       "    </tr>\n",
       "  </tbody>\n",
       "</table>\n",
       "</div>"
      ],
      "text/plain": [
       "             query   duration         table type_query\n",
       "0  from tbl_111329    240.851  [tbl_111329]        [2]\n",
       "1  from tbl_127353   2165.935  [tbl_127353]        [2]\n",
       "2  from tbl_128986  17661.026  [tbl_128986]        [2]\n",
       "3  from tbl_155188   1047.568  [tbl_155188]        [2]\n",
       "4   from tbl_48128    171.001   [tbl_48128]        [2]"
      ]
     },
     "execution_count": 18,
     "metadata": {},
     "output_type": "execute_result"
    }
   ],
   "source": [
    "data[\"table\"] = data[\"query\"].apply(find_table)\n",
    "data[\"type_query\"] = data[\"query\"].apply(type_query)\n",
    "data.head()"
   ]
  },
  {
   "cell_type": "code",
   "execution_count": 20,
   "id": "6b747390-6ce4-4cfb-953f-8d61b152c4ce",
   "metadata": {},
   "outputs": [
    {
     "data": {
      "text/html": [
       "<div>\n",
       "<style scoped>\n",
       "    .dataframe tbody tr th:only-of-type {\n",
       "        vertical-align: middle;\n",
       "    }\n",
       "\n",
       "    .dataframe tbody tr th {\n",
       "        vertical-align: top;\n",
       "    }\n",
       "\n",
       "    .dataframe thead th {\n",
       "        text-align: right;\n",
       "    }\n",
       "</style>\n",
       "<table border=\"1\" class=\"dataframe\">\n",
       "  <thead>\n",
       "    <tr style=\"text-align: right;\">\n",
       "      <th></th>\n",
       "      <th>query</th>\n",
       "      <th>duration</th>\n",
       "      <th>table</th>\n",
       "      <th>type_query</th>\n",
       "      <th>len_query</th>\n",
       "    </tr>\n",
       "  </thead>\n",
       "  <tbody>\n",
       "    <tr>\n",
       "      <th>0</th>\n",
       "      <td>from tbl_111329</td>\n",
       "      <td>240.851</td>\n",
       "      <td>[tbl_111329]</td>\n",
       "      <td>[2]</td>\n",
       "      <td>15</td>\n",
       "    </tr>\n",
       "    <tr>\n",
       "      <th>1</th>\n",
       "      <td>from tbl_127353</td>\n",
       "      <td>2165.935</td>\n",
       "      <td>[tbl_127353]</td>\n",
       "      <td>[2]</td>\n",
       "      <td>15</td>\n",
       "    </tr>\n",
       "    <tr>\n",
       "      <th>2</th>\n",
       "      <td>from tbl_128986</td>\n",
       "      <td>17661.026</td>\n",
       "      <td>[tbl_128986]</td>\n",
       "      <td>[2]</td>\n",
       "      <td>15</td>\n",
       "    </tr>\n",
       "    <tr>\n",
       "      <th>3</th>\n",
       "      <td>from tbl_155188</td>\n",
       "      <td>1047.568</td>\n",
       "      <td>[tbl_155188]</td>\n",
       "      <td>[2]</td>\n",
       "      <td>15</td>\n",
       "    </tr>\n",
       "    <tr>\n",
       "      <th>4</th>\n",
       "      <td>from tbl_48128</td>\n",
       "      <td>171.001</td>\n",
       "      <td>[tbl_48128]</td>\n",
       "      <td>[2]</td>\n",
       "      <td>14</td>\n",
       "    </tr>\n",
       "  </tbody>\n",
       "</table>\n",
       "</div>"
      ],
      "text/plain": [
       "             query   duration         table type_query  len_query\n",
       "0  from tbl_111329    240.851  [tbl_111329]        [2]         15\n",
       "1  from tbl_127353   2165.935  [tbl_127353]        [2]         15\n",
       "2  from tbl_128986  17661.026  [tbl_128986]        [2]         15\n",
       "3  from tbl_155188   1047.568  [tbl_155188]        [2]         15\n",
       "4   from tbl_48128    171.001   [tbl_48128]        [2]         14"
      ]
     },
     "execution_count": 20,
     "metadata": {},
     "output_type": "execute_result"
    }
   ],
   "source": [
    "data[\"len_query\"] = data[\"query\"].apply(lambda x: len(x))\n",
    "data.head()"
   ]
  },
  {
   "cell_type": "code",
   "execution_count": 24,
   "id": "bdf3775b-db0d-48e3-836a-d111bbcffb68",
   "metadata": {},
   "outputs": [],
   "source": [
    "data.to_csv(\"duration_data.csv\")"
   ]
  },
  {
   "cell_type": "code",
   "execution_count": null,
   "id": "e5d1658f-21c6-41eb-b93a-4c85be928551",
   "metadata": {},
   "outputs": [],
   "source": []
  }
 ],
 "metadata": {
  "kernelspec": {
   "display_name": "Python 3 (ipykernel)",
   "language": "python",
   "name": "python3"
  },
  "language_info": {
   "codemirror_mode": {
    "name": "ipython",
    "version": 3
   },
   "file_extension": ".py",
   "mimetype": "text/x-python",
   "name": "python",
   "nbconvert_exporter": "python",
   "pygments_lexer": "ipython3",
   "version": "3.8.9"
  }
 },
 "nbformat": 4,
 "nbformat_minor": 5
}
